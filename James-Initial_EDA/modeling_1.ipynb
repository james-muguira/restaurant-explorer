{
 "cells": [
  {
   "cell_type": "markdown",
   "metadata": {},
   "source": [
    "# Preable\n",
    "\n",
    "This is a technical attempt to form a couple of models and compare their performance.\n",
    "\n",
    "### I think running SageMaker AutoPilot on the hyper parameters would create a greatly improved model(s)\n",
    "\n",
    "There are at least 3 problems with this notebook:\n",
    "\n",
    "* 1.  I leave the \"P\" columns in though I don't use them\n",
    "* 2.  Cell 10 drops the City column and I'm not sure this is a valid idea.\n",
    "* 3.  The outliers in the revenue column are dropped\n",
    "\n",
    "Improvements we should make:\n",
    "\n",
    "* Inspect and understand the outliers in the revenue column\n",
    "* Create an executive summary, with results neatly tabulated\n",
    "* Make a predictor cell\n",
    "* Show how to feed a data tupple into this predictor\n",
    "\n",
    "### How to read this:\n",
    "\n",
    "find the cell \"Modeling starts here\" and read from there"
   ]
  },
  {
   "cell_type": "code",
   "execution_count": 1,
   "metadata": {},
   "outputs": [
    {
     "name": "stdout",
     "output_type": "stream",
     "text": [
      "/opt/conda/lib/python3.7/site-packages/secretstorage/dhcrypto.py:16: CryptographyDeprecationWarning: int_from_bytes is deprecated, use int.from_bytes instead\n",
      "  from cryptography.utils import int_from_bytes\n",
      "/opt/conda/lib/python3.7/site-packages/secretstorage/util.py:25: CryptographyDeprecationWarning: int_from_bytes is deprecated, use int.from_bytes instead\n",
      "  from cryptography.utils import int_from_bytes\n",
      "Requirement already satisfied: phik in /opt/conda/lib/python3.7/site-packages (0.12.0)\n",
      "Requirement already satisfied: numpy>=1.18.0 in /opt/conda/lib/python3.7/site-packages (from phik) (1.21.1)\n",
      "Requirement already satisfied: scipy>=1.5.2 in /opt/conda/lib/python3.7/site-packages (from phik) (1.7.1)\n",
      "Requirement already satisfied: matplotlib>=2.2.3 in /opt/conda/lib/python3.7/site-packages (from phik) (3.1.3)\n",
      "Requirement already satisfied: joblib>=0.14.1 in /opt/conda/lib/python3.7/site-packages (from phik) (0.14.1)\n",
      "Requirement already satisfied: pandas>=0.25.1 in /opt/conda/lib/python3.7/site-packages (from phik) (1.0.1)\n",
      "Requirement already satisfied: cycler>=0.10 in /opt/conda/lib/python3.7/site-packages (from matplotlib>=2.2.3->phik) (0.10.0)\n",
      "Requirement already satisfied: python-dateutil>=2.1 in /opt/conda/lib/python3.7/site-packages (from matplotlib>=2.2.3->phik) (2.8.1)\n",
      "Requirement already satisfied: kiwisolver>=1.0.1 in /opt/conda/lib/python3.7/site-packages (from matplotlib>=2.2.3->phik) (1.1.0)\n",
      "Requirement already satisfied: pyparsing!=2.0.4,!=2.1.2,!=2.1.6,>=2.0.1 in /opt/conda/lib/python3.7/site-packages (from matplotlib>=2.2.3->phik) (2.4.6)\n",
      "Requirement already satisfied: six in /opt/conda/lib/python3.7/site-packages (from cycler>=0.10->matplotlib>=2.2.3->phik) (1.14.0)\n",
      "Requirement already satisfied: setuptools in /opt/conda/lib/python3.7/site-packages (from kiwisolver>=1.0.1->matplotlib>=2.2.3->phik) (57.4.0)\n",
      "Requirement already satisfied: pytz>=2017.2 in /opt/conda/lib/python3.7/site-packages (from pandas>=0.25.1->phik) (2019.3)\n",
      "\u001b[33mWARNING: Running pip as the 'root' user can result in broken permissions and conflicting behaviour with the system package manager. It is recommended to use a virtual environment instead: https://pip.pypa.io/warnings/venv\u001b[0m\n",
      "\u001b[33mWARNING: You are using pip version 21.1.3; however, version 21.2.4 is available.\n",
      "You should consider upgrading via the '/opt/conda/bin/python -m pip install --upgrade pip' command.\u001b[0m\n"
     ]
    }
   ],
   "source": [
    "!pip install phik"
   ]
  },
  {
   "cell_type": "code",
   "execution_count": 2,
   "metadata": {},
   "outputs": [],
   "source": [
    "%matplotlib inline\n",
    "import os\n",
    "import numpy as np\n",
    "import pandas as pd\n",
    "import matplotlib.pyplot as plt\n",
    "import seaborn as sns\n",
    "import matplotlib\n",
    "from scipy import stats\n",
    "from scipy.stats import norm, skew\n",
    "from sklearn import preprocessing\n",
    "from sklearn.metrics import r2_score\n",
    "from sklearn.metrics import mean_squared_error\n",
    "\n",
    "from xgboost import XGBRegressor, plot_importance\n",
    "from sklearn.model_selection import RandomizedSearchCV\n",
    "from sklearn.model_selection import RepeatedStratifiedKFold\n",
    "from sklearn.model_selection import StratifiedKFold\n",
    "from sklearn.model_selection import KFold\n",
    "\n",
    "from sklearn.linear_model import LinearRegression\n",
    "from sklearn.model_selection import train_test_split\n",
    "from sklearn.metrics import mean_absolute_error\n",
    "import statsmodels.api as sm\n",
    "from statsmodels.tools.eval_measures import mse, rmse\n",
    "\n",
    "import phik\n",
    "from sklearn.preprocessing import LabelEncoder\n"
   ]
  },
  {
   "cell_type": "code",
   "execution_count": 3,
   "metadata": {},
   "outputs": [
    {
     "data": {
      "text/html": [
       "<div>\n",
       "<style scoped>\n",
       "    .dataframe tbody tr th:only-of-type {\n",
       "        vertical-align: middle;\n",
       "    }\n",
       "\n",
       "    .dataframe tbody tr th {\n",
       "        vertical-align: top;\n",
       "    }\n",
       "\n",
       "    .dataframe thead th {\n",
       "        text-align: right;\n",
       "    }\n",
       "</style>\n",
       "<table border=\"1\" class=\"dataframe\">\n",
       "  <thead>\n",
       "    <tr style=\"text-align: right;\">\n",
       "      <th></th>\n",
       "      <th>Id</th>\n",
       "      <th>Open Date</th>\n",
       "      <th>City</th>\n",
       "      <th>City Group</th>\n",
       "      <th>Type</th>\n",
       "      <th>P1</th>\n",
       "      <th>P2</th>\n",
       "      <th>P3</th>\n",
       "      <th>P4</th>\n",
       "      <th>P5</th>\n",
       "      <th>...</th>\n",
       "      <th>P29</th>\n",
       "      <th>P30</th>\n",
       "      <th>P31</th>\n",
       "      <th>P32</th>\n",
       "      <th>P33</th>\n",
       "      <th>P34</th>\n",
       "      <th>P35</th>\n",
       "      <th>P36</th>\n",
       "      <th>P37</th>\n",
       "      <th>revenue</th>\n",
       "    </tr>\n",
       "  </thead>\n",
       "  <tbody>\n",
       "    <tr>\n",
       "      <th>0</th>\n",
       "      <td>0</td>\n",
       "      <td>01/22/2011</td>\n",
       "      <td>Niğde</td>\n",
       "      <td>Other</td>\n",
       "      <td>FC</td>\n",
       "      <td>1</td>\n",
       "      <td>4.0</td>\n",
       "      <td>4.0</td>\n",
       "      <td>4.0</td>\n",
       "      <td>1</td>\n",
       "      <td>...</td>\n",
       "      <td>3.0</td>\n",
       "      <td>0</td>\n",
       "      <td>0</td>\n",
       "      <td>0</td>\n",
       "      <td>0</td>\n",
       "      <td>0</td>\n",
       "      <td>0</td>\n",
       "      <td>0</td>\n",
       "      <td>0</td>\n",
       "      <td>4244605.96</td>\n",
       "    </tr>\n",
       "    <tr>\n",
       "      <th>1</th>\n",
       "      <td>1</td>\n",
       "      <td>03/18/2011</td>\n",
       "      <td>Konya</td>\n",
       "      <td>Other</td>\n",
       "      <td>IL</td>\n",
       "      <td>3</td>\n",
       "      <td>4.0</td>\n",
       "      <td>4.0</td>\n",
       "      <td>4.0</td>\n",
       "      <td>2</td>\n",
       "      <td>...</td>\n",
       "      <td>3.0</td>\n",
       "      <td>0</td>\n",
       "      <td>0</td>\n",
       "      <td>0</td>\n",
       "      <td>0</td>\n",
       "      <td>0</td>\n",
       "      <td>0</td>\n",
       "      <td>0</td>\n",
       "      <td>0</td>\n",
       "      <td>3287351.70</td>\n",
       "    </tr>\n",
       "    <tr>\n",
       "      <th>2</th>\n",
       "      <td>2</td>\n",
       "      <td>10/30/2013</td>\n",
       "      <td>Ankara</td>\n",
       "      <td>Big Cities</td>\n",
       "      <td>FC</td>\n",
       "      <td>3</td>\n",
       "      <td>4.0</td>\n",
       "      <td>4.0</td>\n",
       "      <td>4.0</td>\n",
       "      <td>2</td>\n",
       "      <td>...</td>\n",
       "      <td>3.0</td>\n",
       "      <td>0</td>\n",
       "      <td>0</td>\n",
       "      <td>0</td>\n",
       "      <td>0</td>\n",
       "      <td>0</td>\n",
       "      <td>0</td>\n",
       "      <td>0</td>\n",
       "      <td>0</td>\n",
       "      <td>4219403.66</td>\n",
       "    </tr>\n",
       "    <tr>\n",
       "      <th>3</th>\n",
       "      <td>3</td>\n",
       "      <td>05/06/2013</td>\n",
       "      <td>Kocaeli</td>\n",
       "      <td>Other</td>\n",
       "      <td>IL</td>\n",
       "      <td>2</td>\n",
       "      <td>4.0</td>\n",
       "      <td>4.0</td>\n",
       "      <td>4.0</td>\n",
       "      <td>2</td>\n",
       "      <td>...</td>\n",
       "      <td>3.0</td>\n",
       "      <td>0</td>\n",
       "      <td>4</td>\n",
       "      <td>0</td>\n",
       "      <td>0</td>\n",
       "      <td>0</td>\n",
       "      <td>0</td>\n",
       "      <td>0</td>\n",
       "      <td>0</td>\n",
       "      <td>3937158.64</td>\n",
       "    </tr>\n",
       "    <tr>\n",
       "      <th>4</th>\n",
       "      <td>4</td>\n",
       "      <td>07/31/2013</td>\n",
       "      <td>Afyonkarahisar</td>\n",
       "      <td>Other</td>\n",
       "      <td>FC</td>\n",
       "      <td>2</td>\n",
       "      <td>4.0</td>\n",
       "      <td>4.0</td>\n",
       "      <td>4.0</td>\n",
       "      <td>1</td>\n",
       "      <td>...</td>\n",
       "      <td>3.0</td>\n",
       "      <td>0</td>\n",
       "      <td>0</td>\n",
       "      <td>0</td>\n",
       "      <td>0</td>\n",
       "      <td>0</td>\n",
       "      <td>0</td>\n",
       "      <td>0</td>\n",
       "      <td>0</td>\n",
       "      <td>5877728.96</td>\n",
       "    </tr>\n",
       "  </tbody>\n",
       "</table>\n",
       "<p>5 rows × 43 columns</p>\n",
       "</div>"
      ],
      "text/plain": [
       "   Id   Open Date            City  City Group Type  P1   P2   P3   P4  P5  \\\n",
       "0   0  01/22/2011           Niğde       Other   FC   1  4.0  4.0  4.0   1   \n",
       "1   1  03/18/2011           Konya       Other   IL   3  4.0  4.0  4.0   2   \n",
       "2   2  10/30/2013          Ankara  Big Cities   FC   3  4.0  4.0  4.0   2   \n",
       "3   3  05/06/2013         Kocaeli       Other   IL   2  4.0  4.0  4.0   2   \n",
       "4   4  07/31/2013  Afyonkarahisar       Other   FC   2  4.0  4.0  4.0   1   \n",
       "\n",
       "   ...  P29  P30  P31  P32  P33  P34  P35  P36  P37     revenue  \n",
       "0  ...  3.0    0    0    0    0    0    0    0    0  4244605.96  \n",
       "1  ...  3.0    0    0    0    0    0    0    0    0  3287351.70  \n",
       "2  ...  3.0    0    0    0    0    0    0    0    0  4219403.66  \n",
       "3  ...  3.0    0    4    0    0    0    0    0    0  3937158.64  \n",
       "4  ...  3.0    0    0    0    0    0    0    0    0  5877728.96  \n",
       "\n",
       "[5 rows x 43 columns]"
      ]
     },
     "execution_count": 3,
     "metadata": {},
     "output_type": "execute_result"
    }
   ],
   "source": [
    "train_df = pd.read_csv('train_data.csv')\n",
    "test_df = pd.read_csv('./test_data.csv')\n",
    "train_df.head()"
   ]
  },
  {
   "cell_type": "code",
   "execution_count": 4,
   "metadata": {},
   "outputs": [],
   "source": [
    "# transform the 'Open Date' feature\n",
    "def newFeatures_train(df):\n",
    "  df['Date'] = pd.to_datetime(df['Open Date'],format=\"%m/%d/%Y\")\n",
    "  df['Year'] = df['Date'].dt.year\n",
    "  df['Month'] = df['Date'].dt.month\n",
    "  df['Years Old'] = pd.to_datetime('23-03-2015').year - df['Date'].dt.year\n",
    "  df = df.drop(['Open Date','Date'],axis=1)\n",
    "  return df"
   ]
  },
  {
   "cell_type": "code",
   "execution_count": 5,
   "metadata": {},
   "outputs": [],
   "source": [
    "# transform the 'Open Date' feature\n",
    "def newFeatures_test(df):\n",
    "  df['Date'] = pd.to_datetime(df['Open Date'],format=\"%m/%d/%y\")\n",
    "  df['Year'] = df['Date'].dt.year\n",
    "  df['Month'] = df['Date'].dt.month\n",
    "  df['Years Old'] = pd.to_datetime('23-03-2015').year - df['Date'].dt.year\n",
    "  df = df.drop(['Open Date','Date'],axis=1)\n",
    "  return df"
   ]
  },
  {
   "cell_type": "code",
   "execution_count": 6,
   "metadata": {},
   "outputs": [],
   "source": [
    "#Reordering columns\n",
    "def reorderingCols(train_data,test_data):\n",
    "    train = train_data[['Id','City','City Group','Type','Year','Month','Years Old','P1','P2','P3','P4','P5','P6','P7','P8','P9','P10','P11','P12','P13','P14','P15','P16','P17','P18','P19','P20','P21','P22','P23','P24','P25','P26','P27','P28','P29','P30','P31','P32','P33','P34','P35','P36','P37','revenue']]\n",
    "    test = test_data[['Id','City','City Group','Type','Year','Month','Years Old','P1','P2','P3','P4','P5','P6','P7','P8','P9','P10','P11','P12','P13','P14','P15','P16','P17','P18','P19','P20','P21','P22','P23','P24','P25','P26','P27','P28','P29','P30','P31','P32','P33','P34','P35','P36','P37']]\n",
    "    return train,test"
   ]
  },
  {
   "cell_type": "code",
   "execution_count": 7,
   "metadata": {},
   "outputs": [],
   "source": [
    "#Even after logarithmic transformation of 'revenue' variable still there exists skewness. So lets drop few outliers.\n",
    "def handlingOutliers(train):\n",
    "  train = train[train['revenue']<train['revenue'].quantile(0.98)] \n",
    "  return train"
   ]
  },
  {
   "cell_type": "code",
   "execution_count": 8,
   "metadata": {},
   "outputs": [],
   "source": [
    "def numFea(train_data):\n",
    "    #To find highly correlated independent features.\n",
    "    num_fea = train_data.drop(['Id','revenue','City Group','Type'],axis=1)\n",
    "    corr = train_data.corr()\n",
    "    #https://www.dezyre.com/recipes/drop-out-highly-correlated-features-in-python\n",
    "    upper_tri = corr.where(np.triu(np.ones(corr.shape),k=1).astype(np.bool))  #numerical features that are highly correlated with each other\n",
    "    corr_col = [column for column in upper_tri.columns if any(upper_tri[column] > 0.8)]\n",
    "\n",
    "    Phi_corr = train_data.drop(['Id'],axis=1).phik_matrix()\n",
    "    fea = train_data.drop(['Id','revenue'],axis=1)\n",
    "    Phi_corrFea = (Phi_corr['revenue'].sort_values(ascending=False)==0) #Features that have zero or no correlation with target variable\n",
    "    no_cor = [col for col in fea.columns if Phi_corrFea[col]==True]\n",
    "\n",
    "    drop_num = [col for col in corr_col if col not in no_cor]  #Dropping Features that are having zero correlation with the target variable but are highly correlated with other variables  \n",
    "    return drop_num"
   ]
  },
  {
   "cell_type": "code",
   "execution_count": 9,
   "metadata": {},
   "outputs": [],
   "source": [
    "def catFea(df):\n",
    "  labelEncoding = LabelEncoder()\n",
    "  df['City Group'] = labelEncoding.fit_transform(df['City Group'].astype('str'))\n",
    "  df['Type'] = labelEncoding.fit_transform(df['Type'].astype('str'))\n",
    "  return df"
   ]
  },
  {
   "cell_type": "code",
   "execution_count": 10,
   "metadata": {},
   "outputs": [],
   "source": [
    "#City can be dropped because there are 23 cities in test that are unseen during training phase\n",
    "def split_X_y(train_data,test_data):\n",
    "    y_train = train_data['revenue']\n",
    "    X_train = train_data.drop(['Id','revenue','City'],axis=1)\n",
    "    X_test = test_data.drop(['Id','City'],axis=1)\n",
    "    return X_train,X_test,y_train"
   ]
  },
  {
   "cell_type": "code",
   "execution_count": 11,
   "metadata": {},
   "outputs": [],
   "source": [
    "from sklearn.preprocessing import StandardScaler\n",
    "scaler = StandardScaler()\n",
    "# transform data\n",
    "def scaling(X_train,X_test):\n",
    "    X_train_scale = scaler.fit_transform(X_train)\n",
    "    X_test_scale = scaler.transform(X_test)\n",
    "    return X_train_scale,X_test_scale"
   ]
  },
  {
   "cell_type": "code",
   "execution_count": 12,
   "metadata": {},
   "outputs": [],
   "source": [
    "from sklearn.decomposition import PCA\n",
    "#https://www.geeksforgeeks.org/principal-component-analysis-with-python/\n",
    "def principalComponentAnalysis(X_train,X_test):\n",
    "    pca = PCA(n_components = 10)\n",
    "    X_train_PCA = pca.fit_transform(X_train) \n",
    "    X_test_PCA = pca.transform(X_test) \n",
    "    return X_train_PCA,X_test_PCA\n"
   ]
  },
  {
   "cell_type": "code",
   "execution_count": 13,
   "metadata": {},
   "outputs": [],
   "source": [
    "def featureEngineering(train,test):\n",
    "\n",
    "    #generating new features\n",
    "    train = newFeatures_train(train)\n",
    "    test = newFeatures_test(test)\n",
    "    \n",
    "    #Reordering columns\n",
    "    train,test = reorderingCols(train,test)\n",
    "    \n",
    "\n",
    "    #Handling numerical features\n",
    "    dropnum = numFea(train)\n",
    "    train  = train.drop(dropnum,axis=1)\n",
    "    test = test.drop(dropnum,axis=1)\n",
    "    print(dropnum)\n",
    "\n",
    "    #Handling outliers\n",
    "    train = handlingOutliers(train)\n",
    "\n",
    "    #Handling categorical features\n",
    "    train = catFea(train) \n",
    "    test = catFea(test) \n",
    "   \n",
    "\n",
    "    #Split X & y\n",
    "    X_train,X_test,y_train = split_X_y(train,test)\n",
    "    print(X_train.columns)\n",
    "    print(X_test.columns)\n",
    "\n",
    "    #Standard Scaling\n",
    "    X_train_scale,X_test_scale = scaling(X_train,X_test)\n",
    "\n",
    "    #Principal Component Analysis\n",
    "    X_train_PCA,X_test_PCA = principalComponentAnalysis(X_train,X_test)\n",
    "\n",
    "    return X_train,X_test,X_train_scale,X_test_scale, X_train_PCA,X_test_PCA,y_train"
   ]
  },
  {
   "cell_type": "code",
   "execution_count": 14,
   "metadata": {},
   "outputs": [
    {
     "name": "stderr",
     "output_type": "stream",
     "text": [
      "/opt/conda/lib/python3.7/site-packages/ipykernel_launcher.py:6: DeprecationWarning: `np.bool` is a deprecated alias for the builtin `bool`. To silence this warning, use `bool` by itself. Doing this will not modify any behavior and is safe. If you specifically wanted the numpy scalar type, use `np.bool_` here.\n",
      "Deprecated in NumPy 1.20; for more details and guidance: https://numpy.org/devdocs/release/1.20.0-notes.html#deprecations\n",
      "  \n"
     ]
    },
    {
     "name": "stdout",
     "output_type": "stream",
     "text": [
      "interval columns not set, guessing: ['Year', 'Month', 'Years Old', 'P1', 'P2', 'P3', 'P4', 'P5', 'P6', 'P7', 'P8', 'P9', 'P10', 'P11', 'P12', 'P13', 'P14', 'P15', 'P16', 'P17', 'P18', 'P19', 'P20', 'P21', 'P22', 'P23', 'P24', 'P25', 'P26', 'P27', 'P28', 'P29', 'P30', 'P31', 'P32', 'P33', 'P34', 'P35', 'P36', 'P37', 'revenue']\n",
      "[]\n",
      "Index(['City Group', 'Type', 'Year', 'Month', 'Years Old', 'P1', 'P2', 'P3',\n",
      "       'P4', 'P5', 'P6', 'P7', 'P8', 'P9', 'P10', 'P11', 'P12', 'P13', 'P14',\n",
      "       'P15', 'P16', 'P17', 'P18', 'P19', 'P20', 'P21', 'P22', 'P23', 'P24',\n",
      "       'P25', 'P26', 'P27', 'P28', 'P29', 'P30', 'P31', 'P32', 'P33', 'P34',\n",
      "       'P35', 'P36', 'P37'],\n",
      "      dtype='object')\n",
      "Index(['City Group', 'Type', 'Year', 'Month', 'Years Old', 'P1', 'P2', 'P3',\n",
      "       'P4', 'P5', 'P6', 'P7', 'P8', 'P9', 'P10', 'P11', 'P12', 'P13', 'P14',\n",
      "       'P15', 'P16', 'P17', 'P18', 'P19', 'P20', 'P21', 'P22', 'P23', 'P24',\n",
      "       'P25', 'P26', 'P27', 'P28', 'P29', 'P30', 'P31', 'P32', 'P33', 'P34',\n",
      "       'P35', 'P36', 'P37'],\n",
      "      dtype='object')\n"
     ]
    }
   ],
   "source": [
    "X_train,X_test,X_train_scale,X_test_scale, X_train_PCA,X_test_PCA,y_train = featureEngineering(train_df,test_df)"
   ]
  },
  {
   "cell_type": "code",
   "execution_count": 15,
   "metadata": {},
   "outputs": [
    {
     "data": {
      "text/html": [
       "<div>\n",
       "<style scoped>\n",
       "    .dataframe tbody tr th:only-of-type {\n",
       "        vertical-align: middle;\n",
       "    }\n",
       "\n",
       "    .dataframe tbody tr th {\n",
       "        vertical-align: top;\n",
       "    }\n",
       "\n",
       "    .dataframe thead th {\n",
       "        text-align: right;\n",
       "    }\n",
       "</style>\n",
       "<table border=\"1\" class=\"dataframe\">\n",
       "  <thead>\n",
       "    <tr style=\"text-align: right;\">\n",
       "      <th></th>\n",
       "      <th>City Group</th>\n",
       "      <th>Type</th>\n",
       "      <th>Year</th>\n",
       "      <th>Month</th>\n",
       "      <th>Years Old</th>\n",
       "      <th>P1</th>\n",
       "      <th>P2</th>\n",
       "      <th>P3</th>\n",
       "      <th>P4</th>\n",
       "      <th>P5</th>\n",
       "      <th>...</th>\n",
       "      <th>P28</th>\n",
       "      <th>P29</th>\n",
       "      <th>P30</th>\n",
       "      <th>P31</th>\n",
       "      <th>P32</th>\n",
       "      <th>P33</th>\n",
       "      <th>P34</th>\n",
       "      <th>P35</th>\n",
       "      <th>P36</th>\n",
       "      <th>P37</th>\n",
       "    </tr>\n",
       "  </thead>\n",
       "  <tbody>\n",
       "    <tr>\n",
       "      <th>0</th>\n",
       "      <td>1</td>\n",
       "      <td>1</td>\n",
       "      <td>2011</td>\n",
       "      <td>1</td>\n",
       "      <td>4</td>\n",
       "      <td>1</td>\n",
       "      <td>4.0</td>\n",
       "      <td>4.0</td>\n",
       "      <td>4.0</td>\n",
       "      <td>1</td>\n",
       "      <td>...</td>\n",
       "      <td>2.0</td>\n",
       "      <td>3.0</td>\n",
       "      <td>0</td>\n",
       "      <td>0</td>\n",
       "      <td>0</td>\n",
       "      <td>0</td>\n",
       "      <td>0</td>\n",
       "      <td>0</td>\n",
       "      <td>0</td>\n",
       "      <td>0</td>\n",
       "    </tr>\n",
       "    <tr>\n",
       "      <th>1</th>\n",
       "      <td>1</td>\n",
       "      <td>2</td>\n",
       "      <td>2011</td>\n",
       "      <td>3</td>\n",
       "      <td>4</td>\n",
       "      <td>3</td>\n",
       "      <td>4.0</td>\n",
       "      <td>4.0</td>\n",
       "      <td>4.0</td>\n",
       "      <td>2</td>\n",
       "      <td>...</td>\n",
       "      <td>1.0</td>\n",
       "      <td>3.0</td>\n",
       "      <td>0</td>\n",
       "      <td>0</td>\n",
       "      <td>0</td>\n",
       "      <td>0</td>\n",
       "      <td>0</td>\n",
       "      <td>0</td>\n",
       "      <td>0</td>\n",
       "      <td>0</td>\n",
       "    </tr>\n",
       "  </tbody>\n",
       "</table>\n",
       "<p>2 rows × 42 columns</p>\n",
       "</div>"
      ],
      "text/plain": [
       "   City Group  Type  Year  Month  Years Old  P1   P2   P3   P4  P5  ...  P28  \\\n",
       "0           1     1  2011      1          4   1  4.0  4.0  4.0   1  ...  2.0   \n",
       "1           1     2  2011      3          4   3  4.0  4.0  4.0   2  ...  1.0   \n",
       "\n",
       "   P29  P30  P31  P32  P33  P34  P35  P36  P37  \n",
       "0  3.0    0    0    0    0    0    0    0    0  \n",
       "1  3.0    0    0    0    0    0    0    0    0  \n",
       "\n",
       "[2 rows x 42 columns]"
      ]
     },
     "execution_count": 15,
     "metadata": {},
     "output_type": "execute_result"
    }
   ],
   "source": [
    "X_train.head(2)"
   ]
  },
  {
   "cell_type": "code",
   "execution_count": 16,
   "metadata": {},
   "outputs": [
    {
     "data": {
      "text/html": [
       "<div>\n",
       "<style scoped>\n",
       "    .dataframe tbody tr th:only-of-type {\n",
       "        vertical-align: middle;\n",
       "    }\n",
       "\n",
       "    .dataframe tbody tr th {\n",
       "        vertical-align: top;\n",
       "    }\n",
       "\n",
       "    .dataframe thead th {\n",
       "        text-align: right;\n",
       "    }\n",
       "</style>\n",
       "<table border=\"1\" class=\"dataframe\">\n",
       "  <thead>\n",
       "    <tr style=\"text-align: right;\">\n",
       "      <th></th>\n",
       "      <th>City Group</th>\n",
       "      <th>Type</th>\n",
       "      <th>Year</th>\n",
       "      <th>Month</th>\n",
       "      <th>Years Old</th>\n",
       "      <th>P1</th>\n",
       "      <th>P2</th>\n",
       "      <th>P3</th>\n",
       "      <th>P4</th>\n",
       "      <th>P5</th>\n",
       "      <th>...</th>\n",
       "      <th>P28</th>\n",
       "      <th>P29</th>\n",
       "      <th>P30</th>\n",
       "      <th>P31</th>\n",
       "      <th>P32</th>\n",
       "      <th>P33</th>\n",
       "      <th>P34</th>\n",
       "      <th>P35</th>\n",
       "      <th>P36</th>\n",
       "      <th>P37</th>\n",
       "    </tr>\n",
       "  </thead>\n",
       "  <tbody>\n",
       "    <tr>\n",
       "      <th>0</th>\n",
       "      <td>0</td>\n",
       "      <td>2</td>\n",
       "      <td>1999</td>\n",
       "      <td>7</td>\n",
       "      <td>16</td>\n",
       "      <td>4</td>\n",
       "      <td>5.0</td>\n",
       "      <td>4.0</td>\n",
       "      <td>4.0</td>\n",
       "      <td>2</td>\n",
       "      <td>...</td>\n",
       "      <td>2.0</td>\n",
       "      <td>3.0</td>\n",
       "      <td>5</td>\n",
       "      <td>3</td>\n",
       "      <td>4</td>\n",
       "      <td>5</td>\n",
       "      <td>5</td>\n",
       "      <td>4</td>\n",
       "      <td>3</td>\n",
       "      <td>4</td>\n",
       "    </tr>\n",
       "    <tr>\n",
       "      <th>1</th>\n",
       "      <td>0</td>\n",
       "      <td>1</td>\n",
       "      <td>2008</td>\n",
       "      <td>2</td>\n",
       "      <td>7</td>\n",
       "      <td>4</td>\n",
       "      <td>5.0</td>\n",
       "      <td>4.0</td>\n",
       "      <td>4.0</td>\n",
       "      <td>1</td>\n",
       "      <td>...</td>\n",
       "      <td>3.0</td>\n",
       "      <td>3.0</td>\n",
       "      <td>0</td>\n",
       "      <td>0</td>\n",
       "      <td>0</td>\n",
       "      <td>0</td>\n",
       "      <td>0</td>\n",
       "      <td>0</td>\n",
       "      <td>0</td>\n",
       "      <td>0</td>\n",
       "    </tr>\n",
       "  </tbody>\n",
       "</table>\n",
       "<p>2 rows × 42 columns</p>\n",
       "</div>"
      ],
      "text/plain": [
       "   City Group  Type  Year  Month  Years Old  P1   P2   P3   P4  P5  ...  P28  \\\n",
       "0           0     2  1999      7         16   4  5.0  4.0  4.0   2  ...  2.0   \n",
       "1           0     1  2008      2          7   4  5.0  4.0  4.0   1  ...  3.0   \n",
       "\n",
       "   P29  P30  P31  P32  P33  P34  P35  P36  P37  \n",
       "0  3.0    5    3    4    5    5    4    3    4  \n",
       "1  3.0    0    0    0    0    0    0    0    0  \n",
       "\n",
       "[2 rows x 42 columns]"
      ]
     },
     "execution_count": 16,
     "metadata": {},
     "output_type": "execute_result"
    }
   ],
   "source": [
    "X_test.head(2)"
   ]
  },
  {
   "cell_type": "code",
   "execution_count": 17,
   "metadata": {},
   "outputs": [
    {
     "name": "stdout",
     "output_type": "stream",
     "text": [
      "(97715, 42)   (137, 42)\n"
     ]
    }
   ],
   "source": [
    "print(X_train.shape,' ',X_test.shape)"
   ]
  },
  {
   "cell_type": "markdown",
   "metadata": {},
   "source": [
    "# =====================\n",
    "# Modeling starts here\n",
    "# ====================="
   ]
  },
  {
   "cell_type": "code",
   "execution_count": 21,
   "metadata": {},
   "outputs": [
    {
     "name": "stdout",
     "output_type": "stream",
     "text": [
      "Train LassoCV RMSE            score : 789663.1218025794\n",
      "Train LassoCV (with PCA) RMSE score : 964087.3786891912\n"
     ]
    }
   ],
   "source": [
    "from sklearn import linear_model\n",
    "model_LR1 = linear_model.LassoCV(max_iter=10000,alphas=(0.0001,0.01,0.1,1),n_alphas=(100,300,500,1000),cv=5)\n",
    "\n",
    "lassoCV = model_LR1.fit(X_train_scale,y_train)\n",
    "y_pred = model_LR1.predict(X_train_scale)\n",
    "LR_rmse = mean_squared_error(y_train, y_pred, squared=False)\n",
    "print('Train LassoCV RMSE            score :',LR_rmse)\n",
    "\n",
    "model_LR1.fit(X_train_PCA,y_train)\n",
    "y_pred_PCA = model_LR1.predict(X_train_PCA)\n",
    "LR_rmse_PCA = mean_squared_error(y_train, y_pred_PCA, squared=False)\n",
    "print('Train LassoCV (with PCA) RMSE score :',LR_rmse_PCA)\n",
    "\n"
   ]
  },
  {
   "cell_type": "code",
   "execution_count": 27,
   "metadata": {},
   "outputs": [
    {
     "data": {
      "image/png": "[encoded data removed]",
      "text/plain": [
       "<Figure size 1440x936 with 1 Axes>"
      ]
     },
     "metadata": {
      "needs_background": "light"
     },
     "output_type": "display_data"
    }
   ],
   "source": [
    "import matplotlib.pyplot as plt\n",
    "import numpy as np\n",
    "from sklearn.linear_model import LassoCV\n",
    "\n",
    "\n",
    "lasso = lassoCV.fit(X_train, y_train)\n",
    "importance = np.abs(lasso.coef_)\n",
    "feature_names = np.array(X_train.columns)\n",
    "\n",
    "plt.figure(figsize=(20,13))\n",
    "plt.bar(height=importance, x=feature_names)\n",
    "plt.title(\"Feature importances via coefficients\")\n",
    "plt.show()"
   ]
  },
  {
   "cell_type": "code",
   "execution_count": 19,
   "metadata": {},
   "outputs": [
    {
     "name": "stdout",
     "output_type": "stream",
     "text": [
      "Train RMSE       score : 789663.1258331359\n",
      "Train RMSE (PCA) score : 964087.3786910219\n"
     ]
    }
   ],
   "source": [
    "from sklearn.linear_model import RidgeCV\n",
    "model_RR1 = RidgeCV(alphas=(0.0001,0.01,0.1,1,10),cv=5)\n",
    "\n",
    "model_RR1.fit(X_train_scale,y_train)\n",
    "y_pred = model_RR1.predict(X_train_scale)\n",
    "RR_rmse = mean_squared_error(y_train, y_pred, squared=False)\n",
    "print('Train RMSE       score :',RR_rmse)\n",
    "\n",
    "\n",
    "model_RR1.fit(X_train_PCA,y_train)\n",
    "y_pred = model_RR1.predict(X_train_PCA)\n",
    "RR_rmse_PCA = mean_squared_error(y_train, y_pred, squared=False)\n",
    "print('Train RMSE (PCA) score :',RR_rmse_PCA)\n",
    "\n"
   ]
  },
  {
   "cell_type": "code",
   "execution_count": null,
   "metadata": {},
   "outputs": [
    {
     "name": "stdout",
     "output_type": "stream",
     "text": [
      "Fitting 5 folds for each of 25 candidates, totalling 125 fits\n"
     ]
    },
    {
     "name": "stderr",
     "output_type": "stream",
     "text": [
      "[Parallel(n_jobs=-1)]: Using backend LokyBackend with 2 concurrent workers.\n",
      "[Parallel(n_jobs=-1)]: Done  28 tasks      | elapsed: 12.2min\n",
      "[Parallel(n_jobs=-1)]: Done 125 out of 125 | elapsed: 28.6min finished\n"
     ]
    },
    {
     "name": "stdout",
     "output_type": "stream",
     "text": [
      "Train RMSE score : 672929.8381677278\n",
      "Fitting 5 folds for each of 25 candidates, totalling 125 fits\n"
     ]
    },
    {
     "name": "stderr",
     "output_type": "stream",
     "text": [
      "[Parallel(n_jobs=-1)]: Using backend LokyBackend with 2 concurrent workers.\n"
     ]
    }
   ],
   "source": [
    "from sklearn.ensemble import RandomForestRegressor\n",
    "from scipy.stats import uniform, randint\n",
    "from sklearn.model_selection import RandomizedSearchCV\n",
    "\n",
    "params = {\n",
    "    \"n_estimators\": randint(10,1000),\n",
    "    \"max_depth\": randint(1,10),\n",
    "    \"min_samples_split\": uniform(0.1,0.8),\n",
    "    'max_features':['auto', 'sqrt', 'log2']\n",
    "}\n",
    "\n",
    "RF_model = RandomForestRegressor()\n",
    "model_rf1 = RandomizedSearchCV(RF_model, params, cv=5, n_iter=25, scoring='neg_mean_squared_error', return_train_score=True, verbose=3, n_jobs=-1)\n",
    "\n",
    "model_rf1.fit(X_train_scale, y_train)\n",
    "y_pred_rf = model_rf1.predict(X_train_scale)\n",
    "RF_rmse_sc = mean_squared_error(y_train, y_pred_rf, squared=False)\n",
    "print('Train RMSE score :',RF_rmse_sc)\n",
    "\n",
    "\n",
    "model_rf1.fit(X_train_PCA, y_train)\n",
    "y_pred_rf = model_rf1.predict(X_train_PCA)\n",
    "RF_rmse_pca = mean_squared_error(y_train, y_pred_rf, squared=False)\n",
    "print('Train RMSE score :',RF_rmse_pca)"
   ]
  },
  {
   "cell_type": "code",
   "execution_count": null,
   "metadata": {},
   "outputs": [],
   "source": [
    "import matplotlib.pyplot as plt\n",
    "from matplotlib.pyplot import figure\n",
    "col_names = X_train.columns\n",
    "importances = model_rf1.best_estimator_.feature_importances_\n",
    "idxs = np.argsort(importances)\n",
    "plt.figure(figsize=(8,8))\n",
    "plt.title('Feature Importances')\n",
    "plt.barh(range(len(idxs)), importances[idxs], align='center')\n",
    "plt.yticks(range(len(idxs)),[col_names[i] for i in idxs])\n",
    "plt.xlabel('Features')\n",
    "plt.show()"
   ]
  },
  {
   "cell_type": "code",
   "execution_count": null,
   "metadata": {},
   "outputs": [],
   "source": []
  }
 ],
 "metadata": {
  "kernelspec": {
   "display_name": "Python 3 (Data Science)",
   "language": "python",
   "name": "python3__SAGEMAKER_INTERNAL__arn:aws:sagemaker:us-east-1:081325390199:image/datascience-1.0"
  },
  "language_info": {
   "codemirror_mode": {
    "name": "ipython",
    "version": 3
   },
   "file_extension": ".py",
   "mimetype": "text/x-python",
   "name": "python",
   "nbconvert_exporter": "python",
   "pygments_lexer": "ipython3",
   "version": "3.7.10"
  }
 },
 "nbformat": 4,
 "nbformat_minor": 4
}
