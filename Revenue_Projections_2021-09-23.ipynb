{
 "cells": [
  {
   "cell_type": "code",
   "execution_count": 153,
   "metadata": {},
   "outputs": [],
   "source": [
    "%matplotlib inline\n",
    "import os\n",
    "import numpy as np\n",
    "import pandas as pd\n",
    "import matplotlib.pyplot as plt\n",
    "import matplotlib\n",
    "import fsspec\n",
    "from scipy import stats\n",
    "from scipy.stats import norm, skew\n",
    "from sklearn import preprocessing\n",
    "from sklearn.metrics import r2_score\n",
    "from sklearn.metrics import mean_squared_error\n",
    "from sklearn.model_selection import train_test_split\n",
    "from xgboost import XGBRegressor, plot_importance\n",
    "from sklearn.model_selection import RandomizedSearchCV\n",
    "from sklearn.model_selection import RepeatedStratifiedKFold\n",
    "from sklearn.model_selection import StratifiedKFold\n",
    "from sklearn.model_selection import KFold"
   ]
  },
  {
   "cell_type": "code",
   "execution_count": 154,
   "metadata": {},
   "outputs": [],
   "source": [
    "import boto3\n",
    "bucket='aifa-team-purple' # Or whatever you called your bucket\n",
    "data_key = 'test_projections/test_data_predictions.csv' # Where the file is within your bucket\n",
    "data_location = 's3://{}/{}'.format(bucket, data_key)\n",
    "df = pd.read_csv(data_location)"
   ]
  },
  {
   "cell_type": "code",
   "execution_count": 158,
   "metadata": {},
   "outputs": [],
   "source": [
    "df['year'] = df['Open Date'].apply(lambda x: \"20\" + x[len(x)-2:len(x)])\n"
   ]
  },
  {
   "cell_type": "code",
   "execution_count": 161,
   "metadata": {},
   "outputs": [],
   "source": [
    "df2 = df.drop(columns = \"Open Date\")\n",
    "df2 = df2.drop(columns = \"Id\")\n",
    "df2 = df2.drop(columns = \"Unnamed: 0\")\n"
   ]
  },
  {
   "cell_type": "code",
   "execution_count": 162,
   "metadata": {},
   "outputs": [
    {
     "name": "stdout",
     "output_type": "stream",
     "text": [
      "         City  City Group Type  P1   P2   P3   P4  P5  P6  P7  ...  P30  P31  \\\n",
      "0      Ankara  Big Cities   DT   1  3.0  0.0  5.0   5   5   1  ...    0    0   \n",
      "1    İstanbul  Big Cities   FC   5  5.0  4.0  5.0   1   4   5  ...    0    0   \n",
      "2    İstanbul  Big Cities   FC   3  5.0  4.0  4.0   2   5   5  ...    0    0   \n",
      "3    İstanbul  Big Cities   FC   3  5.0  4.0  4.0   2   5   5  ...    0    0   \n",
      "4    İstanbul  Big Cities   FC   3  5.0  4.0  4.0   2   5   5  ...    0    0   \n",
      "..        ...         ...  ...  ..  ...  ...  ...  ..  ..  ..  ...  ...  ...   \n",
      "132     Konya       Other   IL   2  2.0  4.0  5.0   4   2   5  ...    0    0   \n",
      "133    Ankara  Big Cities   IL   2  2.0  4.0  4.0   2   1   5  ...    0    0   \n",
      "134  İstanbul  Big Cities   IL   4  5.0  4.0  4.0   2   2   5  ...    0    0   \n",
      "135    Ankara  Big Cities   IL   3  5.0  4.0  5.0   3   4   5  ...    5    2   \n",
      "136    Ankara  Big Cities   IL   3  5.0  4.0  5.0   2   3   5  ...    5    5   \n",
      "\n",
      "     P32  P33  P34  P35  P36  P37  predicted_revenue  year  \n",
      "0      0    0    0    0    0    0         4852964.00  2005  \n",
      "1      0    0    0    0    0    0         9676064.00  2005  \n",
      "2      0    0    0    0    0    0         8749350.00  2000  \n",
      "3      0    0    0    0    0    0         8729628.00  2011  \n",
      "4      0    0    0    0    0    0         7406593.50  2000  \n",
      "..   ...  ...  ...  ...  ...  ...                ...   ...  \n",
      "132    0    0    0    0    0    0         3670620.25  2011  \n",
      "133    0    0    0    0    0    0         3617952.25  2013  \n",
      "134    0    0    0    0    0    0         3587020.50  2013  \n",
      "135    3    2    2    2    3    3         3566397.00  2010  \n",
      "136    4    3    3    4    3    1         3374955.00  2010  \n",
      "\n",
      "[137 rows x 42 columns]\n"
     ]
    }
   ],
   "source": [
    "print(df2)"
   ]
  },
  {
   "cell_type": "code",
   "execution_count": 163,
   "metadata": {},
   "outputs": [],
   "source": [
    "y = df2['predicted_revenue']\n"
   ]
  },
  {
   "cell_type": "code",
   "execution_count": 187,
   "metadata": {},
   "outputs": [],
   "source": [
    "x= df2.loc[:, df2.columns != 'predicted_revenue']\n"
   ]
  },
  {
   "cell_type": "code",
   "execution_count": 188,
   "metadata": {},
   "outputs": [
    {
     "name": "stdout",
     "output_type": "stream",
     "text": [
      "         City  City Group Type  P1   P2   P3   P4  P5  P6  P7  ...  P29  P30  \\\n",
      "0      Ankara  Big Cities   DT   1  3.0  0.0  5.0   5   5   1  ...  3.0    0   \n",
      "1    İstanbul  Big Cities   FC   5  5.0  4.0  5.0   1   4   5  ...  0.0    0   \n",
      "2    İstanbul  Big Cities   FC   3  5.0  4.0  4.0   2   5   5  ...  2.0    0   \n",
      "3    İstanbul  Big Cities   FC   3  5.0  4.0  4.0   2   5   5  ...  2.0    0   \n",
      "4    İstanbul  Big Cities   FC   3  5.0  4.0  4.0   2   5   5  ...  3.0    0   \n",
      "..        ...         ...  ...  ..  ...  ...  ...  ..  ..  ..  ...  ...  ...   \n",
      "132     Konya       Other   IL   2  2.0  4.0  5.0   4   2   5  ...  3.0    0   \n",
      "133    Ankara  Big Cities   IL   2  2.0  4.0  4.0   2   1   5  ...  3.0    0   \n",
      "134  İstanbul  Big Cities   IL   4  5.0  4.0  4.0   2   2   5  ...  3.0    0   \n",
      "135    Ankara  Big Cities   IL   3  5.0  4.0  5.0   3   4   5  ...  3.0    5   \n",
      "136    Ankara  Big Cities   IL   3  5.0  4.0  5.0   2   3   5  ...  3.0    5   \n",
      "\n",
      "     P31  P32  P33  P34  P35  P36  P37  year  \n",
      "0      0    0    0    0    0    0    0  2005  \n",
      "1      0    0    0    0    0    0    0  2005  \n",
      "2      0    0    0    0    0    0    0  2000  \n",
      "3      0    0    0    0    0    0    0  2011  \n",
      "4      0    0    0    0    0    0    0  2000  \n",
      "..   ...  ...  ...  ...  ...  ...  ...   ...  \n",
      "132    0    0    0    0    0    0    0  2011  \n",
      "133    0    0    0    0    0    0    0  2013  \n",
      "134    0    0    0    0    0    0    0  2013  \n",
      "135    2    3    2    2    2    3    3  2010  \n",
      "136    5    4    3    3    4    3    1  2010  \n",
      "\n",
      "[137 rows x 41 columns]\n"
     ]
    }
   ],
   "source": [
    "print(x)"
   ]
  },
  {
   "cell_type": "code",
   "execution_count": 189,
   "metadata": {},
   "outputs": [],
   "source": [
    " regr = linear_model.LinearRegression() "
   ]
  },
  {
   "cell_type": "code",
   "execution_count": 190,
   "metadata": {},
   "outputs": [],
   "source": [
    "x2 = pd.get_dummies(data=x, drop_first=True)\n"
   ]
  },
  {
   "cell_type": "code",
   "execution_count": 191,
   "metadata": {},
   "outputs": [
    {
     "name": "stdout",
     "output_type": "stream",
     "text": [
      "     P1   P2   P3   P4  P5  P6  P7  P8  P9  P10  ...  year_2009  year_2010  \\\n",
      "0     1  3.0  0.0  5.0   5   5   1   5   5    5  ...          0          0   \n",
      "1     5  5.0  4.0  5.0   1   4   5   3   4    4  ...          0          0   \n",
      "2     3  5.0  4.0  4.0   2   5   5   4   5    4  ...          0          0   \n",
      "3     3  5.0  4.0  4.0   2   5   5   4   5    4  ...          0          0   \n",
      "4     3  5.0  4.0  4.0   2   5   5   4   5    4  ...          0          0   \n",
      "..   ..  ...  ...  ...  ..  ..  ..  ..  ..  ...  ...        ...        ...   \n",
      "132   2  2.0  4.0  5.0   4   2   5   5   5    5  ...          0          0   \n",
      "133   2  2.0  4.0  4.0   2   1   5   4   5    5  ...          0          0   \n",
      "134   4  5.0  4.0  4.0   2   2   5   4   4    4  ...          0          0   \n",
      "135   3  5.0  4.0  5.0   3   4   5   4   4    4  ...          0          1   \n",
      "136   3  5.0  4.0  5.0   2   3   5   3   5    4  ...          0          1   \n",
      "\n",
      "     year_2011  year_2012  year_2013  year_2014  year_2096  year_2097  \\\n",
      "0            0          0          0          0          0          0   \n",
      "1            0          0          0          0          0          0   \n",
      "2            0          0          0          0          0          0   \n",
      "3            1          0          0          0          0          0   \n",
      "4            0          0          0          0          0          0   \n",
      "..         ...        ...        ...        ...        ...        ...   \n",
      "132          1          0          0          0          0          0   \n",
      "133          0          0          1          0          0          0   \n",
      "134          0          0          1          0          0          0   \n",
      "135          0          0          0          0          0          0   \n",
      "136          0          0          0          0          0          0   \n",
      "\n",
      "     year_2098  year_2099  \n",
      "0            0          0  \n",
      "1            0          0  \n",
      "2            0          0  \n",
      "3            0          0  \n",
      "4            0          0  \n",
      "..         ...        ...  \n",
      "132          0          0  \n",
      "133          0          0  \n",
      "134          0          0  \n",
      "135          0          0  \n",
      "136          0          0  \n",
      "\n",
      "[137 rows x 89 columns]\n"
     ]
    }
   ],
   "source": [
    "print(x2)"
   ]
  },
  {
   "cell_type": "code",
   "execution_count": 192,
   "metadata": {},
   "outputs": [
    {
     "data": {
      "text/plain": [
       "LinearRegression(copy_X=True, fit_intercept=True, n_jobs=None, normalize=False)"
      ]
     },
     "execution_count": 192,
     "metadata": {},
     "output_type": "execute_result"
    }
   ],
   "source": [
    "        regr.fit(x2, y)\n"
   ]
  },
  {
   "cell_type": "code",
   "execution_count": 169,
   "metadata": {},
   "outputs": [],
   "source": [
    "x_year_2 = x"
   ]
  },
  {
   "cell_type": "code",
   "execution_count": 170,
   "metadata": {},
   "outputs": [],
   "source": [
    "pd.options.mode.chained_assignment = None  # default='warn'\n"
   ]
  },
  {
   "cell_type": "code",
   "execution_count": 171,
   "metadata": {},
   "outputs": [],
   "source": [
    "x_year_2[\"year\"] = pd.to_numeric(x_year_2[\"year\"])\n",
    "x_year_2[\"year\"] = x_year_2[\"year\"] + 1\n"
   ]
  },
  {
   "cell_type": "code",
   "execution_count": 172,
   "metadata": {},
   "outputs": [
    {
     "name": "stdout",
     "output_type": "stream",
     "text": [
      "         City  City Group Type  P1   P2   P3   P4  P5  P6  P7  ...  P29  P30  \\\n",
      "0      Ankara  Big Cities   DT   1  3.0  0.0  5.0   5   5   1  ...  3.0    0   \n",
      "1    İstanbul  Big Cities   FC   5  5.0  4.0  5.0   1   4   5  ...  0.0    0   \n",
      "2    İstanbul  Big Cities   FC   3  5.0  4.0  4.0   2   5   5  ...  2.0    0   \n",
      "3    İstanbul  Big Cities   FC   3  5.0  4.0  4.0   2   5   5  ...  2.0    0   \n",
      "4    İstanbul  Big Cities   FC   3  5.0  4.0  4.0   2   5   5  ...  3.0    0   \n",
      "..        ...         ...  ...  ..  ...  ...  ...  ..  ..  ..  ...  ...  ...   \n",
      "132     Konya       Other   IL   2  2.0  4.0  5.0   4   2   5  ...  3.0    0   \n",
      "133    Ankara  Big Cities   IL   2  2.0  4.0  4.0   2   1   5  ...  3.0    0   \n",
      "134  İstanbul  Big Cities   IL   4  5.0  4.0  4.0   2   2   5  ...  3.0    0   \n",
      "135    Ankara  Big Cities   IL   3  5.0  4.0  5.0   3   4   5  ...  3.0    5   \n",
      "136    Ankara  Big Cities   IL   3  5.0  4.0  5.0   2   3   5  ...  3.0    5   \n",
      "\n",
      "     P31  P32  P33  P34  P35  P36  P37  year  \n",
      "0      0    0    0    0    0    0    0  2006  \n",
      "1      0    0    0    0    0    0    0  2006  \n",
      "2      0    0    0    0    0    0    0  2001  \n",
      "3      0    0    0    0    0    0    0  2012  \n",
      "4      0    0    0    0    0    0    0  2001  \n",
      "..   ...  ...  ...  ...  ...  ...  ...   ...  \n",
      "132    0    0    0    0    0    0    0  2012  \n",
      "133    0    0    0    0    0    0    0  2014  \n",
      "134    0    0    0    0    0    0    0  2014  \n",
      "135    2    3    2    2    2    3    3  2011  \n",
      "136    5    4    3    3    4    3    1  2011  \n",
      "\n",
      "[137 rows x 41 columns]\n"
     ]
    }
   ],
   "source": [
    "print(x_year_2)"
   ]
  },
  {
   "cell_type": "code",
   "execution_count": 173,
   "metadata": {},
   "outputs": [],
   "source": [
    "x_year_3 = x\n",
    "x_year_3['year'] = pd.to_numeric(x_year_3['year'])\n",
    "x_year_3['year'] += 2\n"
   ]
  },
  {
   "cell_type": "code",
   "execution_count": 174,
   "metadata": {},
   "outputs": [],
   "source": [
    "x_year_4 = x\n",
    "x_year_4['year'] = pd.to_numeric(x_year_4['year'])\n",
    "x_year_4['year'] += 3"
   ]
  },
  {
   "cell_type": "code",
   "execution_count": 175,
   "metadata": {},
   "outputs": [],
   "source": [
    "x_year_5 = x\n",
    "x_year_5['year'] = pd.to_numeric(x_year_5['year'])\n",
    "x_year_5['year'] += 4"
   ]
  },
  {
   "cell_type": "code",
   "execution_count": 176,
   "metadata": {},
   "outputs": [
    {
     "name": "stdout",
     "output_type": "stream",
     "text": [
      "         City  City Group Type  P1   P2   P3   P4  P5  P6  P7  ...  P29  P30  \\\n",
      "0      Ankara  Big Cities   DT   1  3.0  0.0  5.0   5   5   1  ...  3.0    0   \n",
      "1    İstanbul  Big Cities   FC   5  5.0  4.0  5.0   1   4   5  ...  0.0    0   \n",
      "2    İstanbul  Big Cities   FC   3  5.0  4.0  4.0   2   5   5  ...  2.0    0   \n",
      "3    İstanbul  Big Cities   FC   3  5.0  4.0  4.0   2   5   5  ...  2.0    0   \n",
      "4    İstanbul  Big Cities   FC   3  5.0  4.0  4.0   2   5   5  ...  3.0    0   \n",
      "..        ...         ...  ...  ..  ...  ...  ...  ..  ..  ..  ...  ...  ...   \n",
      "132     Konya       Other   IL   2  2.0  4.0  5.0   4   2   5  ...  3.0    0   \n",
      "133    Ankara  Big Cities   IL   2  2.0  4.0  4.0   2   1   5  ...  3.0    0   \n",
      "134  İstanbul  Big Cities   IL   4  5.0  4.0  4.0   2   2   5  ...  3.0    0   \n",
      "135    Ankara  Big Cities   IL   3  5.0  4.0  5.0   3   4   5  ...  3.0    5   \n",
      "136    Ankara  Big Cities   IL   3  5.0  4.0  5.0   2   3   5  ...  3.0    5   \n",
      "\n",
      "     P31  P32  P33  P34  P35  P36  P37  year  \n",
      "0      0    0    0    0    0    0    0  2015  \n",
      "1      0    0    0    0    0    0    0  2015  \n",
      "2      0    0    0    0    0    0    0  2010  \n",
      "3      0    0    0    0    0    0    0  2021  \n",
      "4      0    0    0    0    0    0    0  2010  \n",
      "..   ...  ...  ...  ...  ...  ...  ...   ...  \n",
      "132    0    0    0    0    0    0    0  2021  \n",
      "133    0    0    0    0    0    0    0  2023  \n",
      "134    0    0    0    0    0    0    0  2023  \n",
      "135    2    3    2    2    2    3    3  2020  \n",
      "136    5    4    3    3    4    3    1  2020  \n",
      "\n",
      "[137 rows x 41 columns]\n"
     ]
    }
   ],
   "source": [
    "print(x_year_5)"
   ]
  },
  {
   "cell_type": "code",
   "execution_count": 177,
   "metadata": {},
   "outputs": [],
   "source": [
    "x_projections = x_year_2.append(x_year_3).append(x_year_4).append(x_year_5)"
   ]
  },
  {
   "cell_type": "code",
   "execution_count": 195,
   "metadata": {},
   "outputs": [],
   "source": [
    "x_projections['year'] = x_projections['year'].astype(str)"
   ]
  },
  {
   "cell_type": "code",
   "execution_count": 196,
   "metadata": {},
   "outputs": [
    {
     "name": "stdout",
     "output_type": "stream",
     "text": [
      "         City  City Group Type  P1   P2   P3   P4  P5  P6  P7  ...  P29  P30  \\\n",
      "0      Ankara  Big Cities   DT   1  3.0  0.0  5.0   5   5   1  ...  3.0    0   \n",
      "1    İstanbul  Big Cities   FC   5  5.0  4.0  5.0   1   4   5  ...  0.0    0   \n",
      "2    İstanbul  Big Cities   FC   3  5.0  4.0  4.0   2   5   5  ...  2.0    0   \n",
      "3    İstanbul  Big Cities   FC   3  5.0  4.0  4.0   2   5   5  ...  2.0    0   \n",
      "4    İstanbul  Big Cities   FC   3  5.0  4.0  4.0   2   5   5  ...  3.0    0   \n",
      "..        ...         ...  ...  ..  ...  ...  ...  ..  ..  ..  ...  ...  ...   \n",
      "132     Konya       Other   IL   2  2.0  4.0  5.0   4   2   5  ...  3.0    0   \n",
      "133    Ankara  Big Cities   IL   2  2.0  4.0  4.0   2   1   5  ...  3.0    0   \n",
      "134  İstanbul  Big Cities   IL   4  5.0  4.0  4.0   2   2   5  ...  3.0    0   \n",
      "135    Ankara  Big Cities   IL   3  5.0  4.0  5.0   3   4   5  ...  3.0    5   \n",
      "136    Ankara  Big Cities   IL   3  5.0  4.0  5.0   2   3   5  ...  3.0    5   \n",
      "\n",
      "     P31  P32  P33  P34  P35  P36  P37  year  \n",
      "0      0    0    0    0    0    0    0  2015  \n",
      "1      0    0    0    0    0    0    0  2015  \n",
      "2      0    0    0    0    0    0    0  2010  \n",
      "3      0    0    0    0    0    0    0  2021  \n",
      "4      0    0    0    0    0    0    0  2010  \n",
      "..   ...  ...  ...  ...  ...  ...  ...   ...  \n",
      "132    0    0    0    0    0    0    0  2021  \n",
      "133    0    0    0    0    0    0    0  2023  \n",
      "134    0    0    0    0    0    0    0  2023  \n",
      "135    2    3    2    2    2    3    3  2020  \n",
      "136    5    4    3    3    4    3    1  2020  \n",
      "\n",
      "[548 rows x 41 columns]\n"
     ]
    }
   ],
   "source": [
    "print(x_projections)"
   ]
  },
  {
   "cell_type": "code",
   "execution_count": 197,
   "metadata": {},
   "outputs": [],
   "source": [
    "x_model_projections = pd.get_dummies(data=x_projections, drop_first=True)\n"
   ]
  },
  {
   "cell_type": "code",
   "execution_count": 198,
   "metadata": {},
   "outputs": [
    {
     "name": "stdout",
     "output_type": "stream",
     "text": [
      "     P1   P2   P3   P4  P5  P6  P7  P8  P9  P10  ...  year_2019  year_2020  \\\n",
      "0     1  3.0  0.0  5.0   5   5   1   5   5    5  ...          0          0   \n",
      "1     5  5.0  4.0  5.0   1   4   5   3   4    4  ...          0          0   \n",
      "2     3  5.0  4.0  4.0   2   5   5   4   5    4  ...          0          0   \n",
      "3     3  5.0  4.0  4.0   2   5   5   4   5    4  ...          0          0   \n",
      "4     3  5.0  4.0  4.0   2   5   5   4   5    4  ...          0          0   \n",
      "..   ..  ...  ...  ...  ..  ..  ..  ..  ..  ...  ...        ...        ...   \n",
      "132   2  2.0  4.0  5.0   4   2   5   5   5    5  ...          0          0   \n",
      "133   2  2.0  4.0  4.0   2   1   5   4   5    5  ...          0          0   \n",
      "134   4  5.0  4.0  4.0   2   2   5   4   4    4  ...          0          0   \n",
      "135   3  5.0  4.0  5.0   3   4   5   4   4    4  ...          0          1   \n",
      "136   3  5.0  4.0  5.0   2   3   5   3   5    4  ...          0          1   \n",
      "\n",
      "     year_2021  year_2022  year_2023  year_2024  year_2106  year_2107  \\\n",
      "0            0          0          0          0          0          0   \n",
      "1            0          0          0          0          0          0   \n",
      "2            0          0          0          0          0          0   \n",
      "3            1          0          0          0          0          0   \n",
      "4            0          0          0          0          0          0   \n",
      "..         ...        ...        ...        ...        ...        ...   \n",
      "132          1          0          0          0          0          0   \n",
      "133          0          0          1          0          0          0   \n",
      "134          0          0          1          0          0          0   \n",
      "135          0          0          0          0          0          0   \n",
      "136          0          0          0          0          0          0   \n",
      "\n",
      "     year_2108  year_2109  \n",
      "0            0          0  \n",
      "1            0          0  \n",
      "2            0          0  \n",
      "3            0          0  \n",
      "4            0          0  \n",
      "..         ...        ...  \n",
      "132          0          0  \n",
      "133          0          0  \n",
      "134          0          0  \n",
      "135          0          0  \n",
      "136          0          0  \n",
      "\n",
      "[548 rows x 89 columns]\n"
     ]
    }
   ],
   "source": [
    "print(x_model_projections)"
   ]
  },
  {
   "cell_type": "code",
   "execution_count": 199,
   "metadata": {},
   "outputs": [],
   "source": [
    "predicted = regr.predict(x_model_projections)\n"
   ]
  },
  {
   "cell_type": "code",
   "execution_count": 200,
   "metadata": {},
   "outputs": [],
   "source": [
    "forecasts  = x_projections\n",
    "forecasts['projected_revenue'] =  predicted"
   ]
  },
  {
   "cell_type": "code",
   "execution_count": 201,
   "metadata": {},
   "outputs": [
    {
     "name": "stdout",
     "output_type": "stream",
     "text": [
      "         City  City Group Type  P1   P2   P3   P4  P5  P6  P7  ...  P30  P31  \\\n",
      "0      Ankara  Big Cities   DT   1  3.0  0.0  5.0   5   5   1  ...    0    0   \n",
      "1    İstanbul  Big Cities   FC   5  5.0  4.0  5.0   1   4   5  ...    0    0   \n",
      "2    İstanbul  Big Cities   FC   3  5.0  4.0  4.0   2   5   5  ...    0    0   \n",
      "3    İstanbul  Big Cities   FC   3  5.0  4.0  4.0   2   5   5  ...    0    0   \n",
      "4    İstanbul  Big Cities   FC   3  5.0  4.0  4.0   2   5   5  ...    0    0   \n",
      "..        ...         ...  ...  ..  ...  ...  ...  ..  ..  ..  ...  ...  ...   \n",
      "132     Konya       Other   IL   2  2.0  4.0  5.0   4   2   5  ...    0    0   \n",
      "133    Ankara  Big Cities   IL   2  2.0  4.0  4.0   2   1   5  ...    0    0   \n",
      "134  İstanbul  Big Cities   IL   4  5.0  4.0  4.0   2   2   5  ...    0    0   \n",
      "135    Ankara  Big Cities   IL   3  5.0  4.0  5.0   3   4   5  ...    5    2   \n",
      "136    Ankara  Big Cities   IL   3  5.0  4.0  5.0   2   3   5  ...    5    5   \n",
      "\n",
      "     P32  P33  P34  P35  P36  P37  year  projected_revenue  \n",
      "0      0    0    0    0    0    0  2015       4.852964e+06  \n",
      "1      0    0    0    0    0    0  2015       7.846482e+06  \n",
      "2      0    0    0    0    0    0  2010       8.003358e+06  \n",
      "3      0    0    0    0    0    0  2021       6.615458e+06  \n",
      "4      0    0    0    0    0    0  2010       8.152586e+06  \n",
      "..   ...  ...  ...  ...  ...  ...   ...                ...  \n",
      "132    0    0    0    0    0    0  2021       3.606206e+06  \n",
      "133    0    0    0    0    0    0  2023       3.060613e+06  \n",
      "134    0    0    0    0    0    0  2023       4.001812e+06  \n",
      "135    3    2    2    2    3    3  2020       3.864700e+06  \n",
      "136    4    3    3    4    3    1  2020       3.806953e+06  \n",
      "\n",
      "[548 rows x 42 columns]\n"
     ]
    }
   ],
   "source": [
    "print(forecasts)"
   ]
  },
  {
   "cell_type": "code",
   "execution_count": 202,
   "metadata": {},
   "outputs": [],
   "source": [
    "import dask.dataframe as dd\n"
   ]
  },
  {
   "cell_type": "code",
   "execution_count": 205,
   "metadata": {},
   "outputs": [],
   "source": [
    "forecasts.to_csv('s3://aifa-team-purple/test_projections/forecasts.csv', index=False)"
   ]
  }
 ],
 "metadata": {
  "instance_type": "ml.t3.medium",
  "kernelspec": {
   "display_name": "Python 3 (Data Science)",
   "language": "python",
   "name": "python3__SAGEMAKER_INTERNAL__arn:aws:sagemaker:us-east-1:081325390199:image/datascience-1.0"
  },
  "language_info": {
   "codemirror_mode": {
    "name": "ipython",
    "version": 3
   },
   "file_extension": ".py",
   "mimetype": "text/x-python",
   "name": "python",
   "nbconvert_exporter": "python",
   "pygments_lexer": "ipython3",
   "version": "3.7.10"
  }
 },
 "nbformat": 4,
 "nbformat_minor": 4
}
