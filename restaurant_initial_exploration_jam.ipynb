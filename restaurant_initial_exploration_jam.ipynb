{
 "cells": [
  {
   "cell_type": "markdown",
   "id": "e5eeb658-a8c8-4c14-83fe-fdf3194a7670",
   "metadata": {},
   "source": [
    "Restaurant data for slalom AI for All challenge\n",
    "\n",
    "Given the data sets from the slalom team, analyzie and figure out a model to predict revenue vs location\n",
    "\n",
    "Notes:\n",
    "our \"client\" provides a drive-thru experience, with some mobile ordering.\n",
    "\n",
    "I already checked the main named columns with openrefine- i found no NaN's or other problems"
   ]
  },
  {
   "cell_type": "code",
   "execution_count": 71,
   "id": "bdcc86b1-56f5-491b-bfed-5a126394d9c4",
   "metadata": {},
   "outputs": [],
   "source": [
    "%matplotlib inline\n",
    "import os\n",
    "import numpy as np\n",
    "import pandas as pd\n",
    "import matplotlib.pyplot as plt\n",
    "import seaborn as sns\n",
    "import matplotlib\n",
    "from scipy import stats\n",
    "from scipy.stats import norm, skew\n",
    "from sklearn import preprocessing\n",
    "from sklearn.metrics import r2_score\n",
    "from sklearn.metrics import mean_squared_error\n",
    "from sklearn.model_selection import train_test_split\n",
    "from xgboost import XGBRegressor, plot_importance\n",
    "from sklearn.model_selection import RandomizedSearchCV\n",
    "from sklearn.model_selection import RepeatedStratifiedKFold\n",
    "from sklearn.model_selection import StratifiedKFold\n",
    "from sklearn.model_selection import KFold\n"
   ]
  },
  {
   "cell_type": "code",
   "execution_count": 72,
   "id": "67ef5d83-d757-4a67-ac0b-686f322d67c8",
   "metadata": {},
   "outputs": [
    {
     "data": {
      "text/html": [
       "<div>\n",
       "<style scoped>\n",
       "    .dataframe tbody tr th:only-of-type {\n",
       "        vertical-align: middle;\n",
       "    }\n",
       "\n",
       "    .dataframe tbody tr th {\n",
       "        vertical-align: top;\n",
       "    }\n",
       "\n",
       "    .dataframe thead th {\n",
       "        text-align: right;\n",
       "    }\n",
       "</style>\n",
       "<table border=\"1\" class=\"dataframe\">\n",
       "  <thead>\n",
       "    <tr style=\"text-align: right;\">\n",
       "      <th></th>\n",
       "      <th>Id</th>\n",
       "      <th>Open Date</th>\n",
       "      <th>City</th>\n",
       "      <th>City Group</th>\n",
       "      <th>Type</th>\n",
       "      <th>P1</th>\n",
       "      <th>P2</th>\n",
       "      <th>P3</th>\n",
       "      <th>P4</th>\n",
       "      <th>P5</th>\n",
       "      <th>...</th>\n",
       "      <th>P29</th>\n",
       "      <th>P30</th>\n",
       "      <th>P31</th>\n",
       "      <th>P32</th>\n",
       "      <th>P33</th>\n",
       "      <th>P34</th>\n",
       "      <th>P35</th>\n",
       "      <th>P36</th>\n",
       "      <th>P37</th>\n",
       "      <th>revenue</th>\n",
       "    </tr>\n",
       "  </thead>\n",
       "  <tbody>\n",
       "    <tr>\n",
       "      <th>0</th>\n",
       "      <td>0</td>\n",
       "      <td>01/22/2011</td>\n",
       "      <td>Niğde</td>\n",
       "      <td>Other</td>\n",
       "      <td>FC</td>\n",
       "      <td>1</td>\n",
       "      <td>4.0</td>\n",
       "      <td>4.0</td>\n",
       "      <td>4.0</td>\n",
       "      <td>1</td>\n",
       "      <td>...</td>\n",
       "      <td>3.0</td>\n",
       "      <td>0</td>\n",
       "      <td>0</td>\n",
       "      <td>0</td>\n",
       "      <td>0</td>\n",
       "      <td>0</td>\n",
       "      <td>0</td>\n",
       "      <td>0</td>\n",
       "      <td>0</td>\n",
       "      <td>4244605.96</td>\n",
       "    </tr>\n",
       "    <tr>\n",
       "      <th>1</th>\n",
       "      <td>1</td>\n",
       "      <td>03/18/2011</td>\n",
       "      <td>Konya</td>\n",
       "      <td>Other</td>\n",
       "      <td>IL</td>\n",
       "      <td>3</td>\n",
       "      <td>4.0</td>\n",
       "      <td>4.0</td>\n",
       "      <td>4.0</td>\n",
       "      <td>2</td>\n",
       "      <td>...</td>\n",
       "      <td>3.0</td>\n",
       "      <td>0</td>\n",
       "      <td>0</td>\n",
       "      <td>0</td>\n",
       "      <td>0</td>\n",
       "      <td>0</td>\n",
       "      <td>0</td>\n",
       "      <td>0</td>\n",
       "      <td>0</td>\n",
       "      <td>3287351.70</td>\n",
       "    </tr>\n",
       "    <tr>\n",
       "      <th>2</th>\n",
       "      <td>2</td>\n",
       "      <td>10/30/2013</td>\n",
       "      <td>Ankara</td>\n",
       "      <td>Big Cities</td>\n",
       "      <td>FC</td>\n",
       "      <td>3</td>\n",
       "      <td>4.0</td>\n",
       "      <td>4.0</td>\n",
       "      <td>4.0</td>\n",
       "      <td>2</td>\n",
       "      <td>...</td>\n",
       "      <td>3.0</td>\n",
       "      <td>0</td>\n",
       "      <td>0</td>\n",
       "      <td>0</td>\n",
       "      <td>0</td>\n",
       "      <td>0</td>\n",
       "      <td>0</td>\n",
       "      <td>0</td>\n",
       "      <td>0</td>\n",
       "      <td>4219403.66</td>\n",
       "    </tr>\n",
       "    <tr>\n",
       "      <th>3</th>\n",
       "      <td>3</td>\n",
       "      <td>05/06/2013</td>\n",
       "      <td>Kocaeli</td>\n",
       "      <td>Other</td>\n",
       "      <td>IL</td>\n",
       "      <td>2</td>\n",
       "      <td>4.0</td>\n",
       "      <td>4.0</td>\n",
       "      <td>4.0</td>\n",
       "      <td>2</td>\n",
       "      <td>...</td>\n",
       "      <td>3.0</td>\n",
       "      <td>0</td>\n",
       "      <td>4</td>\n",
       "      <td>0</td>\n",
       "      <td>0</td>\n",
       "      <td>0</td>\n",
       "      <td>0</td>\n",
       "      <td>0</td>\n",
       "      <td>0</td>\n",
       "      <td>3937158.64</td>\n",
       "    </tr>\n",
       "    <tr>\n",
       "      <th>4</th>\n",
       "      <td>4</td>\n",
       "      <td>07/31/2013</td>\n",
       "      <td>Afyonkarahisar</td>\n",
       "      <td>Other</td>\n",
       "      <td>FC</td>\n",
       "      <td>2</td>\n",
       "      <td>4.0</td>\n",
       "      <td>4.0</td>\n",
       "      <td>4.0</td>\n",
       "      <td>1</td>\n",
       "      <td>...</td>\n",
       "      <td>3.0</td>\n",
       "      <td>0</td>\n",
       "      <td>0</td>\n",
       "      <td>0</td>\n",
       "      <td>0</td>\n",
       "      <td>0</td>\n",
       "      <td>0</td>\n",
       "      <td>0</td>\n",
       "      <td>0</td>\n",
       "      <td>5877728.96</td>\n",
       "    </tr>\n",
       "  </tbody>\n",
       "</table>\n",
       "<p>5 rows × 43 columns</p>\n",
       "</div>"
      ],
      "text/plain": [
       "   Id   Open Date            City  City Group Type  P1   P2   P3   P4  P5  \\\n",
       "0   0  01/22/2011           Niğde       Other   FC   1  4.0  4.0  4.0   1   \n",
       "1   1  03/18/2011           Konya       Other   IL   3  4.0  4.0  4.0   2   \n",
       "2   2  10/30/2013          Ankara  Big Cities   FC   3  4.0  4.0  4.0   2   \n",
       "3   3  05/06/2013         Kocaeli       Other   IL   2  4.0  4.0  4.0   2   \n",
       "4   4  07/31/2013  Afyonkarahisar       Other   FC   2  4.0  4.0  4.0   1   \n",
       "\n",
       "   ...  P29  P30  P31  P32  P33  P34  P35  P36  P37     revenue  \n",
       "0  ...  3.0    0    0    0    0    0    0    0    0  4244605.96  \n",
       "1  ...  3.0    0    0    0    0    0    0    0    0  3287351.70  \n",
       "2  ...  3.0    0    0    0    0    0    0    0    0  4219403.66  \n",
       "3  ...  3.0    0    4    0    0    0    0    0    0  3937158.64  \n",
       "4  ...  3.0    0    0    0    0    0    0    0    0  5877728.96  \n",
       "\n",
       "[5 rows x 43 columns]"
      ]
     },
     "execution_count": 72,
     "metadata": {},
     "output_type": "execute_result"
    }
   ],
   "source": [
    "train = pd.read_csv('./train_data.csv')\n",
    "test_df = pd.read_csv('./test_data.csv')\n",
    "train.head()"
   ]
  },
  {
   "cell_type": "code",
   "execution_count": 73,
   "id": "0d82d955-12de-46f6-ba88-76171feb157d",
   "metadata": {},
   "outputs": [
    {
     "data": {
      "text/plain": [
       "(99710, 43)"
      ]
     },
     "execution_count": 73,
     "metadata": {},
     "output_type": "execute_result"
    }
   ],
   "source": [
    "train.shape"
   ]
  },
  {
   "cell_type": "code",
   "execution_count": 74,
   "id": "0e4e7957-7f00-4589-8a27-fa09bd29fd8e",
   "metadata": {},
   "outputs": [
    {
     "data": {
      "text/plain": [
       "(137, 42)"
      ]
     },
     "execution_count": 74,
     "metadata": {},
     "output_type": "execute_result"
    }
   ],
   "source": [
    "test_df.shape"
   ]
  },
  {
   "cell_type": "markdown",
   "id": "ee8ef428-cf0c-4819-b589-9588f7ede55b",
   "metadata": {},
   "source": [
    "start with some descriptions of the training data...\n",
    "\n",
    "First have a go at the numeric columns (the so called \"PX\" columns), which we have very little data on.  And a quick ccheck to make sure i did not miss something in my 'openrefine' efforts."
   ]
  },
  {
   "cell_type": "code",
   "execution_count": 75,
   "id": "b4f64cc6-973d-4cc4-90b1-463dc0756ce0",
   "metadata": {},
   "outputs": [
    {
     "data": {
      "text/html": [
       "<div>\n",
       "<style scoped>\n",
       "    .dataframe tbody tr th:only-of-type {\n",
       "        vertical-align: middle;\n",
       "    }\n",
       "\n",
       "    .dataframe tbody tr th {\n",
       "        vertical-align: top;\n",
       "    }\n",
       "\n",
       "    .dataframe thead th {\n",
       "        text-align: right;\n",
       "    }\n",
       "</style>\n",
       "<table border=\"1\" class=\"dataframe\">\n",
       "  <thead>\n",
       "    <tr style=\"text-align: right;\">\n",
       "      <th></th>\n",
       "      <th>Id</th>\n",
       "      <th>P1</th>\n",
       "      <th>P2</th>\n",
       "      <th>P3</th>\n",
       "      <th>P4</th>\n",
       "      <th>P5</th>\n",
       "      <th>P6</th>\n",
       "      <th>P7</th>\n",
       "      <th>P8</th>\n",
       "      <th>P9</th>\n",
       "      <th>...</th>\n",
       "      <th>P29</th>\n",
       "      <th>P30</th>\n",
       "      <th>P31</th>\n",
       "      <th>P32</th>\n",
       "      <th>P33</th>\n",
       "      <th>P34</th>\n",
       "      <th>P35</th>\n",
       "      <th>P36</th>\n",
       "      <th>P37</th>\n",
       "      <th>revenue</th>\n",
       "    </tr>\n",
       "  </thead>\n",
       "  <tbody>\n",
       "    <tr>\n",
       "      <th>count</th>\n",
       "      <td>99710.000000</td>\n",
       "      <td>99710.000000</td>\n",
       "      <td>99710.000000</td>\n",
       "      <td>99710.000000</td>\n",
       "      <td>99710.000000</td>\n",
       "      <td>99710.000000</td>\n",
       "      <td>99710.000000</td>\n",
       "      <td>99710.000000</td>\n",
       "      <td>99710.000000</td>\n",
       "      <td>99710.000000</td>\n",
       "      <td>...</td>\n",
       "      <td>99710.000000</td>\n",
       "      <td>99710.000000</td>\n",
       "      <td>99710.000000</td>\n",
       "      <td>99710.000000</td>\n",
       "      <td>99710.000000</td>\n",
       "      <td>99710.000000</td>\n",
       "      <td>99710.000000</td>\n",
       "      <td>99710.000000</td>\n",
       "      <td>99710.000000</td>\n",
       "      <td>9.971000e+04</td>\n",
       "    </tr>\n",
       "    <tr>\n",
       "      <th>mean</th>\n",
       "      <td>50002.992980</td>\n",
       "      <td>4.093762</td>\n",
       "      <td>4.431978</td>\n",
       "      <td>4.215766</td>\n",
       "      <td>4.398501</td>\n",
       "      <td>1.991385</td>\n",
       "      <td>2.878799</td>\n",
       "      <td>5.301083</td>\n",
       "      <td>4.931140</td>\n",
       "      <td>5.252161</td>\n",
       "      <td>...</td>\n",
       "      <td>3.088948</td>\n",
       "      <td>2.087103</td>\n",
       "      <td>1.195076</td>\n",
       "      <td>1.946023</td>\n",
       "      <td>0.988888</td>\n",
       "      <td>2.111303</td>\n",
       "      <td>1.834741</td>\n",
       "      <td>1.971758</td>\n",
       "      <td>0.975058</td>\n",
       "      <td>4.809134e+06</td>\n",
       "    </tr>\n",
       "    <tr>\n",
       "      <th>std</th>\n",
       "      <td>28869.067522</td>\n",
       "      <td>2.813350</td>\n",
       "      <td>1.426747</td>\n",
       "      <td>0.842940</td>\n",
       "      <td>1.035292</td>\n",
       "      <td>1.065730</td>\n",
       "      <td>1.530582</td>\n",
       "      <td>2.180389</td>\n",
       "      <td>1.720239</td>\n",
       "      <td>1.704360</td>\n",
       "      <td>...</td>\n",
       "      <td>1.781155</td>\n",
       "      <td>4.313285</td>\n",
       "      <td>2.308883</td>\n",
       "      <td>3.974532</td>\n",
       "      <td>1.535414</td>\n",
       "      <td>4.686425</td>\n",
       "      <td>3.229393</td>\n",
       "      <td>3.807489</td>\n",
       "      <td>1.678317</td>\n",
       "      <td>1.197243e+06</td>\n",
       "    </tr>\n",
       "    <tr>\n",
       "      <th>min</th>\n",
       "      <td>0.000000</td>\n",
       "      <td>1.000000</td>\n",
       "      <td>1.000000</td>\n",
       "      <td>0.000000</td>\n",
       "      <td>2.000000</td>\n",
       "      <td>1.000000</td>\n",
       "      <td>1.000000</td>\n",
       "      <td>1.000000</td>\n",
       "      <td>1.000000</td>\n",
       "      <td>4.000000</td>\n",
       "      <td>...</td>\n",
       "      <td>0.000000</td>\n",
       "      <td>0.000000</td>\n",
       "      <td>0.000000</td>\n",
       "      <td>0.000000</td>\n",
       "      <td>0.000000</td>\n",
       "      <td>0.000000</td>\n",
       "      <td>0.000000</td>\n",
       "      <td>0.000000</td>\n",
       "      <td>0.000000</td>\n",
       "      <td>1.881144e+06</td>\n",
       "    </tr>\n",
       "    <tr>\n",
       "      <th>25%</th>\n",
       "      <td>25000.250000</td>\n",
       "      <td>2.000000</td>\n",
       "      <td>4.000000</td>\n",
       "      <td>4.000000</td>\n",
       "      <td>4.000000</td>\n",
       "      <td>1.000000</td>\n",
       "      <td>2.000000</td>\n",
       "      <td>5.000000</td>\n",
       "      <td>4.000000</td>\n",
       "      <td>4.000000</td>\n",
       "      <td>...</td>\n",
       "      <td>2.000000</td>\n",
       "      <td>0.000000</td>\n",
       "      <td>0.000000</td>\n",
       "      <td>0.000000</td>\n",
       "      <td>0.000000</td>\n",
       "      <td>0.000000</td>\n",
       "      <td>0.000000</td>\n",
       "      <td>0.000000</td>\n",
       "      <td>0.000000</td>\n",
       "      <td>4.089145e+06</td>\n",
       "    </tr>\n",
       "    <tr>\n",
       "      <th>50%</th>\n",
       "      <td>50004.500000</td>\n",
       "      <td>3.000000</td>\n",
       "      <td>5.000000</td>\n",
       "      <td>4.000000</td>\n",
       "      <td>4.000000</td>\n",
       "      <td>2.000000</td>\n",
       "      <td>2.000000</td>\n",
       "      <td>5.000000</td>\n",
       "      <td>5.000000</td>\n",
       "      <td>5.000000</td>\n",
       "      <td>...</td>\n",
       "      <td>3.000000</td>\n",
       "      <td>0.000000</td>\n",
       "      <td>0.000000</td>\n",
       "      <td>0.000000</td>\n",
       "      <td>0.000000</td>\n",
       "      <td>0.000000</td>\n",
       "      <td>0.000000</td>\n",
       "      <td>0.000000</td>\n",
       "      <td>0.000000</td>\n",
       "      <td>4.709871e+06</td>\n",
       "    </tr>\n",
       "    <tr>\n",
       "      <th>75%</th>\n",
       "      <td>75002.750000</td>\n",
       "      <td>4.000000</td>\n",
       "      <td>5.000000</td>\n",
       "      <td>4.000000</td>\n",
       "      <td>5.000000</td>\n",
       "      <td>2.000000</td>\n",
       "      <td>4.000000</td>\n",
       "      <td>5.000000</td>\n",
       "      <td>5.000000</td>\n",
       "      <td>5.000000</td>\n",
       "      <td>...</td>\n",
       "      <td>3.000000</td>\n",
       "      <td>3.000000</td>\n",
       "      <td>1.000000</td>\n",
       "      <td>3.000000</td>\n",
       "      <td>2.000000</td>\n",
       "      <td>3.000000</td>\n",
       "      <td>4.000000</td>\n",
       "      <td>3.000000</td>\n",
       "      <td>2.000000</td>\n",
       "      <td>5.419663e+06</td>\n",
       "    </tr>\n",
       "    <tr>\n",
       "      <th>max</th>\n",
       "      <td>99999.000000</td>\n",
       "      <td>15.000000</td>\n",
       "      <td>7.500000</td>\n",
       "      <td>6.000000</td>\n",
       "      <td>7.500000</td>\n",
       "      <td>6.000000</td>\n",
       "      <td>10.000000</td>\n",
       "      <td>10.000000</td>\n",
       "      <td>10.000000</td>\n",
       "      <td>10.000000</td>\n",
       "      <td>...</td>\n",
       "      <td>10.000000</td>\n",
       "      <td>25.000000</td>\n",
       "      <td>15.000000</td>\n",
       "      <td>25.000000</td>\n",
       "      <td>6.000000</td>\n",
       "      <td>30.000000</td>\n",
       "      <td>15.000000</td>\n",
       "      <td>20.000000</td>\n",
       "      <td>8.000000</td>\n",
       "      <td>1.284582e+07</td>\n",
       "    </tr>\n",
       "  </tbody>\n",
       "</table>\n",
       "<p>8 rows × 39 columns</p>\n",
       "</div>"
      ],
      "text/plain": [
       "                 Id            P1            P2            P3            P4  \\\n",
       "count  99710.000000  99710.000000  99710.000000  99710.000000  99710.000000   \n",
       "mean   50002.992980      4.093762      4.431978      4.215766      4.398501   \n",
       "std    28869.067522      2.813350      1.426747      0.842940      1.035292   \n",
       "min        0.000000      1.000000      1.000000      0.000000      2.000000   \n",
       "25%    25000.250000      2.000000      4.000000      4.000000      4.000000   \n",
       "50%    50004.500000      3.000000      5.000000      4.000000      4.000000   \n",
       "75%    75002.750000      4.000000      5.000000      4.000000      5.000000   \n",
       "max    99999.000000     15.000000      7.500000      6.000000      7.500000   \n",
       "\n",
       "                 P5            P6            P7            P8            P9  \\\n",
       "count  99710.000000  99710.000000  99710.000000  99710.000000  99710.000000   \n",
       "mean       1.991385      2.878799      5.301083      4.931140      5.252161   \n",
       "std        1.065730      1.530582      2.180389      1.720239      1.704360   \n",
       "min        1.000000      1.000000      1.000000      1.000000      4.000000   \n",
       "25%        1.000000      2.000000      5.000000      4.000000      4.000000   \n",
       "50%        2.000000      2.000000      5.000000      5.000000      5.000000   \n",
       "75%        2.000000      4.000000      5.000000      5.000000      5.000000   \n",
       "max        6.000000     10.000000     10.000000     10.000000     10.000000   \n",
       "\n",
       "       ...           P29           P30           P31           P32  \\\n",
       "count  ...  99710.000000  99710.000000  99710.000000  99710.000000   \n",
       "mean   ...      3.088948      2.087103      1.195076      1.946023   \n",
       "std    ...      1.781155      4.313285      2.308883      3.974532   \n",
       "min    ...      0.000000      0.000000      0.000000      0.000000   \n",
       "25%    ...      2.000000      0.000000      0.000000      0.000000   \n",
       "50%    ...      3.000000      0.000000      0.000000      0.000000   \n",
       "75%    ...      3.000000      3.000000      1.000000      3.000000   \n",
       "max    ...     10.000000     25.000000     15.000000     25.000000   \n",
       "\n",
       "                P33           P34           P35           P36           P37  \\\n",
       "count  99710.000000  99710.000000  99710.000000  99710.000000  99710.000000   \n",
       "mean       0.988888      2.111303      1.834741      1.971758      0.975058   \n",
       "std        1.535414      4.686425      3.229393      3.807489      1.678317   \n",
       "min        0.000000      0.000000      0.000000      0.000000      0.000000   \n",
       "25%        0.000000      0.000000      0.000000      0.000000      0.000000   \n",
       "50%        0.000000      0.000000      0.000000      0.000000      0.000000   \n",
       "75%        2.000000      3.000000      4.000000      3.000000      2.000000   \n",
       "max        6.000000     30.000000     15.000000     20.000000      8.000000   \n",
       "\n",
       "            revenue  \n",
       "count  9.971000e+04  \n",
       "mean   4.809134e+06  \n",
       "std    1.197243e+06  \n",
       "min    1.881144e+06  \n",
       "25%    4.089145e+06  \n",
       "50%    4.709871e+06  \n",
       "75%    5.419663e+06  \n",
       "max    1.284582e+07  \n",
       "\n",
       "[8 rows x 39 columns]"
      ]
     },
     "execution_count": 75,
     "metadata": {},
     "output_type": "execute_result"
    }
   ],
   "source": [
    "train.describe()"
   ]
  },
  {
   "cell_type": "code",
   "execution_count": 76,
   "id": "38626e00-7552-4955-80b8-80d6cedd00ec",
   "metadata": {},
   "outputs": [
    {
     "data": {
      "text/plain": [
       "City          0.0\n",
       "City Group    0.0\n",
       "Id            0.0\n",
       "Open Date     0.0\n",
       "P1            0.0\n",
       "P10           0.0\n",
       "P11           0.0\n",
       "P12           0.0\n",
       "P13           0.0\n",
       "P14           0.0\n",
       "P15           0.0\n",
       "P16           0.0\n",
       "P17           0.0\n",
       "P18           0.0\n",
       "P19           0.0\n",
       "P2            0.0\n",
       "P20           0.0\n",
       "P21           0.0\n",
       "P22           0.0\n",
       "P23           0.0\n",
       "P24           0.0\n",
       "P25           0.0\n",
       "P26           0.0\n",
       "P27           0.0\n",
       "P28           0.0\n",
       "P29           0.0\n",
       "P3            0.0\n",
       "P30           0.0\n",
       "P31           0.0\n",
       "P32           0.0\n",
       "P33           0.0\n",
       "P34           0.0\n",
       "P35           0.0\n",
       "P36           0.0\n",
       "P37           0.0\n",
       "P4            0.0\n",
       "P5            0.0\n",
       "P6            0.0\n",
       "P7            0.0\n",
       "P8            0.0\n",
       "P9            0.0\n",
       "Type          0.0\n",
       "revenue       0.0\n",
       "dtype: float64"
      ]
     },
     "execution_count": 76,
     "metadata": {},
     "output_type": "execute_result"
    }
   ],
   "source": [
    "train.isnull().sum().sort_index()/len(train)"
   ]
  },
  {
   "cell_type": "markdown",
   "id": "bb2393e6-44cf-4a8a-8d16-406c956f92f4",
   "metadata": {},
   "source": [
    "Now some simple diagrams."
   ]
  },
  {
   "cell_type": "markdown",
   "id": "e24a6d8e-8f93-4ea3-8a3e-b3708373e54b",
   "metadata": {},
   "source": [
    "Let's check to see what types of restaurants are in the training data set.  \n",
    "Note:\n",
    "DT = \"Drive thru\", \n",
    "IL = \"in line\"\n",
    "FC = \"Food Court\"\n",
    "MB = \"Mobile\"\n",
    "\n",
    "We see from the next diagram that there are no \"Mobile\" restaurants.  Food court and inline dominate.\n",
    "\n",
    "As far as \"City Group\" = just about the same number  of \"big city\" as \"other\""
   ]
  },
  {
   "cell_type": "code",
   "execution_count": 77,
   "id": "bcec507a-0b3d-4d54-84d6-0805bc74b30d",
   "metadata": {},
   "outputs": [
    {
     "name": "stderr",
     "output_type": "stream",
     "text": [
      "/Users/muguira/code/stocks/venv/lib/python3.9/site-packages/seaborn/_decorators.py:36: FutureWarning: Pass the following variable as a keyword arg: x. From version 0.12, the only valid positional argument will be `data`, and passing other arguments without an explicit keyword will result in an error or misinterpretation.\n",
      "  warnings.warn(\n",
      "/var/folders/c8/72_459cs1d7d0dywsflw6ctm0000gn/T/ipykernel_31347/2915874856.py:4: UserWarning: Matplotlib is currently using module://matplotlib_inline.backend_inline, which is a non-GUI backend, so cannot show the figure.\n",
      "  fig.show()\n"
     ]
    },
    {
     "data": {
      "image/png": "[encoded data removed]",
      "text/plain": [
       "<Figure size 1800x720 with 1 Axes>"
      ]
     },
     "metadata": {
      "needs_background": "light"
     },
     "output_type": "display_data"
    }
   ],
   "source": [
    "fig, ax = plt.subplots(figsize=(25,10))\n",
    "g1 = sns.countplot(train['Type'],palette=\"Set2\");\n",
    "ax.set_title(\"Training data\")\n",
    "fig.show()"
   ]
  },
  {
   "cell_type": "code",
   "execution_count": 78,
   "id": "7df93884-5acf-424d-9645-8b3ac1e290c3",
   "metadata": {},
   "outputs": [
    {
     "name": "stderr",
     "output_type": "stream",
     "text": [
      "/Users/muguira/code/stocks/venv/lib/python3.9/site-packages/seaborn/_decorators.py:36: FutureWarning: Pass the following variable as a keyword arg: x. From version 0.12, the only valid positional argument will be `data`, and passing other arguments without an explicit keyword will result in an error or misinterpretation.\n",
      "  warnings.warn(\n",
      "/var/folders/c8/72_459cs1d7d0dywsflw6ctm0000gn/T/ipykernel_31347/3931942769.py:4: UserWarning: Matplotlib is currently using module://matplotlib_inline.backend_inline, which is a non-GUI backend, so cannot show the figure.\n",
      "  fig.show()\n"
     ]
    },
    {
     "data": {
      "image/png": "[encoded data removed]",
      "text/plain": [
       "<Figure size 1368x360 with 1 Axes>"
      ]
     },
     "metadata": {
      "needs_background": "light"
     },
     "output_type": "display_data"
    }
   ],
   "source": [
    "fig, ax = plt.subplots(figsize=(19,5))\n",
    "g1 = sns.countplot(train['City Group'],palette=\"Set2\");\n",
    "ax.set_title(\"Training data\")\n",
    "fig.show()"
   ]
  },
  {
   "cell_type": "markdown",
   "id": "2330a524-6cbb-447d-9ea9-32d02e425db1",
   "metadata": {},
   "source": [
    "Interesting,  ...\n",
    "\n",
    "There are cities in the training set that are not in the test \n"
   ]
  },
  {
   "cell_type": "code",
   "execution_count": 79,
   "id": "4ebe8e99-858e-48dd-9be1-151b9ffade4a",
   "metadata": {},
   "outputs": [
    {
     "data": {
      "text/plain": [
       "(57, 34)"
      ]
     },
     "execution_count": 79,
     "metadata": {},
     "output_type": "execute_result"
    }
   ],
   "source": [
    "(train['City'].nunique(), test_df['City'].nunique())"
   ]
  },
  {
   "cell_type": "markdown",
   "id": "d3220f85-ae78-4be8-8dbe-8118e998295c",
   "metadata": {},
   "source": [
    "Let's find  the earliest and latest Open Date for the training data.\n",
    "\n",
    "We will use this later to sort the restaurants by how long  they have been open"
   ]
  },
  {
   "cell_type": "code",
   "execution_count": 82,
   "id": "0a5e6b9c-6ff1-4a48-8f5b-adc4ba09983d",
   "metadata": {},
   "outputs": [],
   "source": [
    "train['Date'] = pd.to_datetime(train['Open Date'])"
   ]
  },
  {
   "cell_type": "code",
   "execution_count": 88,
   "id": "9d79c797-4594-456c-af68-1ba8df27f18e",
   "metadata": {},
   "outputs": [
    {
     "data": {
      "text/plain": [
       "(Timestamp('2014-01-04 00:00:00'), Timestamp('1995-05-08 00:00:00'))"
      ]
     },
     "execution_count": 88,
     "metadata": {},
     "output_type": "execute_result"
    }
   ],
   "source": [
    "(max(train['Date']), min(train['Date']))"
   ]
  },
  {
   "cell_type": "markdown",
   "id": "94257ebb-0877-4973-9696-46cabf3007e5",
   "metadata": {},
   "source": [
    "=========================================================\n",
    "Ok, i am not going to tackle the \"PX\" columns right now...\n",
    "\n",
    "========================================================="
   ]
  },
  {
   "cell_type": "markdown",
   "id": "4bc9d1ed-9e81-4320-88ad-f1298b832877",
   "metadata": {},
   "source": [
    "Let's have a go on the revenue column...\n",
    "\n",
    "First, create a histogram and check for skew and distribution...\n",
    "\n",
    "Visual inspection reveals a little skew to  the right (notice the tail out to the right from the black line).  Linear prediction models like to be feed  nice \"normally\" distributed data.  \n",
    "\n",
    "The probability plot of  the training data should create a straight line.  as you can see there are some issues at  the ends. The curve looks a little like a \"C\", showing the Right Skew of  the data\n",
    "\n",
    "Bottom line:\n",
    "We'll have to do some transformations on the revenue."
   ]
  },
  {
   "cell_type": "code",
   "execution_count": 90,
   "id": "1dfd45a7-bce0-4f29-8879-a886a89321fd",
   "metadata": {},
   "outputs": [
    {
     "name": "stderr",
     "output_type": "stream",
     "text": [
      "/Users/muguira/code/stocks/venv/lib/python3.9/site-packages/seaborn/distributions.py:2619: FutureWarning: `distplot` is a deprecated function and will be removed in a future version. Please adapt your code to use either `displot` (a figure-level function with similar flexibility) or `histplot` (an axes-level function for histograms).\n",
      "  warnings.warn(msg, FutureWarning)\n",
      "/var/folders/c8/72_459cs1d7d0dywsflw6ctm0000gn/T/ipykernel_31347/2343893791.py:11: UserWarning: Matplotlib is currently using module://matplotlib_inline.backend_inline, which is a non-GUI backend, so cannot show the figure.\n",
      "  f.show();\n"
     ]
    },
    {
     "data": {
      "image/png": "[encoded data removed]",
      "text/plain": [
       "<Figure size 1368x360 with 2 Axes>"
      ]
     },
     "metadata": {
      "needs_background": "light"
     },
     "output_type": "display_data"
    }
   ],
   "source": [
    "# first compare the distrubtion, to check for any skew\n",
    "\n",
    "(mu, sigma) = norm.fit(train['revenue'])\n",
    "\n",
    "f, (ax1, ax2) = plt.subplots(1, 2, figsize=(19, 5))\n",
    "ax1 = sns.distplot(train['revenue'] , fit=norm, ax=ax1)\n",
    "ax1.legend([f'Normal distribution ($\\mu=$ {mu:.3f} and $\\sigma=$ {sigma:.3f})'], loc='best')\n",
    "ax1.set_ylabel('Frequency')\n",
    "ax1.set_title('Revenue Distribution')\n",
    "ax2 = stats.probplot(train['revenue'], plot=plt)\n",
    "f.show();\n"
   ]
  },
  {
   "cell_type": "code",
   "execution_count": null,
   "id": "e13a96d6-0681-4244-9672-527f1ea0225b",
   "metadata": {},
   "outputs": [],
   "source": []
  }
 ],
 "metadata": {
  "kernelspec": {
   "display_name": "Python 3 (ipykernel)",
   "language": "python",
   "name": "python3"
  },
  "language_info": {
   "codemirror_mode": {
    "name": "ipython",
    "version": 3
   },
   "file_extension": ".py",
   "mimetype": "text/x-python",
   "name": "python",
   "nbconvert_exporter": "python",
   "pygments_lexer": "ipython3",
   "version": "3.9.6"
  }
 },
 "nbformat": 4,
 "nbformat_minor": 5
}
